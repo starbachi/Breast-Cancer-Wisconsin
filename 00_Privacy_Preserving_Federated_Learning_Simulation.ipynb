{
 "cells": [
  {
   "cell_type": "markdown",
   "id": "f42ceccf",
   "metadata": {},
   "source": [
    "# Assignment 4 – Privacy-Preserving Federated Learning Simulation (Breast Cancer Dataset)"
   ]
  },
  {
   "cell_type": "markdown",
   "id": "5393d24a",
   "metadata": {},
   "source": [
    "### Objective\n",
    "\n",
    "Simulate federated learning across two “hospitals” using the Breast Cancer Wisconsin (Diagnostic) dataset without sharing raw data. Add a differential-privacy layer, compare against centralized training, and document privacy/utility trade-offs."
   ]
  }
 ],
 "metadata": {
  "language_info": {
   "name": "python"
  }
 },
 "nbformat": 4,
 "nbformat_minor": 5
}

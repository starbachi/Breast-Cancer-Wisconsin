{
 "cells": [
  {
   "cell_type": "markdown",
   "id": "f42ceccf",
   "metadata": {},
   "source": [
    "# Assignment 4 – Privacy-Preserving Federated Learning Simulation (Breast Cancer Dataset)"
   ]
  },
  {
   "cell_type": "markdown",
   "id": "5393d24a",
   "metadata": {},
   "source": [
    "### Objective\n",
    "\n",
    "Simulate federated learning across two “hospitals” using the Breast Cancer Wisconsin (Diagnostic) dataset without sharing raw data. Add a differential-privacy layer, compare against centralized training, and document privacy/utility trade-offs."
   ]
  },
  {
   "cell_type": "markdown",
   "id": "46cb0564",
   "metadata": {},
   "source": [
    "## 0. Imports & Setup"
   ]
  },
  {
   "cell_type": "code",
   "execution_count": null,
   "id": "220fc2a7",
   "metadata": {},
   "outputs": [],
   "source": []
  }
 ],
 "metadata": {
  "kernelspec": {
   "display_name": "venv",
   "language": "python",
   "name": "python3"
  },
  "language_info": {
   "name": "python",
   "version": "3.10.12"
  }
 },
 "nbformat": 4,
 "nbformat_minor": 5
}

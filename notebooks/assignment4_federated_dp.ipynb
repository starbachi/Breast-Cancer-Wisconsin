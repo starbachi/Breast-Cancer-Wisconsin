{
 "cells": [
  {
   "cell_type": "markdown",
   "id": "f42ceccf",
   "metadata": {},
   "source": [
    "# Assignment 4 – Privacy-Preserving Federated Learning Simulation (Breast Cancer Dataset)"
   ]
  },
  {
   "cell_type": "markdown",
   "id": "5393d24a",
   "metadata": {},
   "source": [
    "### Objective\n",
    "\n",
    "Simulate federated learning across two “hospitals” using the Breast Cancer Wisconsin (Diagnostic) dataset without sharing raw data. Add a differential-privacy layer, compare against centralized training, and document privacy/utility trade-offs."
   ]
  },
  {
   "cell_type": "markdown",
   "id": "46cb0564",
   "metadata": {},
   "source": [
    "## 0. Imports & Setup"
   ]
  },
  {
   "cell_type": "code",
   "execution_count": null,
   "id": "220fc2a7",
   "metadata": {},
   "outputs": [],
   "source": [
    "import numpy as np\n",
    "import pandas as pd\n",
    "import sklearn\n",
    "import matplotlib.pyplot as plt\n",
    "import flwr as fl       #type: ignore\n",
    "\n",
    "import torch, opacus    # type: ignore"
   ]
  }
 ],
 "metadata": {
  "kernelspec": {
   "display_name": "venv",
   "language": "python",
   "name": "python3"
  },
  "language_info": {
   "codemirror_mode": {
    "name": "ipython",
    "version": 3
   },
   "file_extension": ".py",
   "mimetype": "text/x-python",
   "name": "python",
   "nbconvert_exporter": "python",
   "pygments_lexer": "ipython3",
   "version": "3.10.12"
  }
 },
 "nbformat": 4,
 "nbformat_minor": 5
}
